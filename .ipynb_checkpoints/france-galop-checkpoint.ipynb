{
 "cells": [
  {
   "cell_type": "code",
   "execution_count": 2,
   "id": "a6dca157",
   "metadata": {},
   "outputs": [],
   "source": [
    "from selenium import webdriver\n",
    "from webdriver_manager.chrome import ChromeDriverManager\n",
    "from selenium.webdriver.common.keys import Keys\n",
    "import time\n",
    "from selenium.webdriver.common.action_chains import ActionChains\n",
    "import re\n",
    "import pandas as pd\n",
    "import datefinder\n",
    "from selenium.webdriver.support.ui import WebDriverWait\n",
    "from selenium.webdriver.common.by import By\n",
    "from selenium.webdriver.support import expected_conditions as EC\n",
    "import numpy as np\n",
    "from openpyxl.styles import Font, Color, Alignment, Border, Side\n",
    "from openpyxl import Workbook\n",
    "from openpyxl.worksheet.dimensions import ColumnDimension, DimensionHolder\n",
    "from openpyxl.utils import get_column_letter\n",
    "from selenium.webdriver.support.ui import Select\n",
    "import os\n",
    "import shutil"
   ]
  },
  {
   "cell_type": "code",
   "execution_count": 57,
   "id": "2b5359de",
   "metadata": {},
   "outputs": [
    {
     "name": "stdout",
     "output_type": "stream",
     "text": [
      "D:\\Jupyter notebook\\Sorpher\\PDF\n"
     ]
    }
   ],
   "source": [
    "# to create the PDF Directory\n",
    "dir_path = str(os.getcwd())\n",
    "newpath = dir_path + \"\\PDF\"\n",
    "if not os.path.exists(newpath):\n",
    "    os.makedirs(newpath)\n",
    "else:\n",
    "    shutil.rmtree(newpath)\n",
    "    os.makedirs(newpath)\n",
    "\n",
    "print(newpath)"
   ]
  },
  {
   "cell_type": "code",
   "execution_count": 46,
   "id": "a1ef2409",
   "metadata": {},
   "outputs": [
    {
     "name": "stderr",
     "output_type": "stream",
     "text": [
      "C:\\Users\\alikh\\AppData\\Local\\Temp\\ipykernel_19200\\3266547353.py:36: DeprecationWarning: executable_path has been deprecated, please pass in a Service object\n",
      "  driver = webdriver.Chrome(executable_path=r'D:\\Jupyter notebook\\chromedrive\\chromedriver.exe',chrome_options=options)\n",
      "C:\\Users\\alikh\\AppData\\Local\\Temp\\ipykernel_19200\\3266547353.py:36: DeprecationWarning: use options instead of chrome_options\n",
      "  driver = webdriver.Chrome(executable_path=r'D:\\Jupyter notebook\\chromedrive\\chromedriver.exe',chrome_options=options)\n"
     ]
    }
   ],
   "source": [
    "options = webdriver.ChromeOptions()\n",
    "options.add_experimental_option(\"excludeSwitches\", [\"enable-automation\"])\n",
    "options.add_experimental_option('useAutomationExtension', False)\n",
    "# options.add_argument(\"window-size=1200x600\")\n",
    "# options.headless = True\n",
    "options.add_argument(\"--disable-blink-features=AutomationControlled\")\n",
    "options.add_argument(\"--start-maximized\")\n",
    "# options.headless = False\n",
    "# options.add_argument(\"window-size=1200x600\")\n",
    "# options.add_experimental_option('useAutomationExtension', False)\n",
    "# options.add_experimental_option(\"excludeSwitches\", [\"enable-logging\"])\n",
    "# options.headless = False\n",
    "options.add_argument(\"--disable-infobars\")\n",
    "# options.add_argument(\"start-maximized\")\n",
    "options.add_argument(\"--disable-extensions\")    \n",
    "# options.add_argument(\"window-size=1200x600\")\n",
    "options.add_argument(\"test-type\")\n",
    "options.add_argument('--disable-useAutomationExtension')\n",
    "# options.add_experimental_option('useAutomationExtension', False)\n",
    "# options.add_experimental_option(\"excludeSwitches\", [\"enable-logging\"])\n",
    "options.add_argument(\"--disable-xss-auditor\")\n",
    "options.add_argument(\"--disable-web-security\")\n",
    "options.add_argument(\"--allow-running-insecure-content\")\n",
    "options.add_argument(\"--disable-setuid-sandbox\")\n",
    "options.add_argument(\"--disable-webgl\")\n",
    "options.add_argument(\"--disable-popup-blocking\")\n",
    "options.add_argument(\"no-default-browser-check\")\n",
    "options.add_argument(\"--disable-notifications\")\n",
    "\n",
    "# for the PDF download\n",
    "options.add_experimental_option('prefs', {\n",
    "\"download.default_directory\": newpath,\n",
    "\"download.prompt_for_download\": False,\n",
    "\"download.directory_upgrade\": True,\n",
    "\"plugins.always_open_pdf_externally\": True\n",
    "})\n",
    "\n",
    "\n",
    "# path of chrome driver\n",
    "executable_path=r'D:\\Jupyter notebook\\chromedrive\\chromedriver.exe'\n",
    "\n",
    "driver = webdriver.Chrome(executable_path=executable_path,chrome_options=options)\n",
    "driver.implicitly_wait(30)"
   ]
  },
  {
   "cell_type": "code",
   "execution_count": 47,
   "id": "42099ed4",
   "metadata": {},
   "outputs": [],
   "source": [
    "# loading the webpage\n",
    "driver.get('https://www.france-galop.com/fr')"
   ]
  },
  {
   "cell_type": "code",
   "execution_count": 15,
   "id": "3a29ead3",
   "metadata": {},
   "outputs": [],
   "source": [
    "a = ActionChains(driver)"
   ]
  },
  {
   "cell_type": "code",
   "execution_count": 58,
   "id": "07ef5abb",
   "metadata": {},
   "outputs": [
    {
     "name": "stderr",
     "output_type": "stream",
     "text": [
      "C:\\Users\\alikh\\AppData\\Local\\Temp\\ipykernel_19200\\540691988.py:1: DeprecationWarning: find_element_by_* commands are deprecated. Please use find_element() instead\n",
      "  driver.get(driver.find_element_by_xpath('//li[@class=\"expanded dropdown first\"]/div/ul/li/a').get_attribute('href'))\n"
     ]
    }
   ],
   "source": [
    "# getting the url of hier in courses\n",
    "driver.get(driver.find_element_by_xpath('//li[@class=\"expanded dropdown first\"]/div/ul/li/a').get_attribute('href'))"
   ]
  },
  {
   "cell_type": "code",
   "execution_count": null,
   "id": "49689fd9",
   "metadata": {},
   "outputs": [],
   "source": []
  },
  {
   "cell_type": "code",
   "execution_count": 63,
   "id": "ef231c43",
   "metadata": {},
   "outputs": [
    {
     "name": "stderr",
     "output_type": "stream",
     "text": [
      "C:\\Users\\alikh\\AppData\\Local\\Temp\\ipykernel_19200\\3199055877.py:2: DeprecationWarning: find_element_by_* commands are deprecated. Please use find_element() instead\n",
      "  driver.find_element_by_xpath('//input[@class=\"hasDatepicker\"]').send_keys('06-04-2022'+Keys.ENTER)\n"
     ]
    }
   ],
   "source": [
    "# input the date in the format day-month-year\n",
    "driver.find_element_by_xpath('//input[@class=\"hasDatepicker\"]').send_keys('06-04-2022'+Keys.ENTER)"
   ]
  },
  {
   "cell_type": "code",
   "execution_count": 67,
   "id": "274abd9b",
   "metadata": {},
   "outputs": [
    {
     "name": "stderr",
     "output_type": "stream",
     "text": [
      "C:\\Users\\alikh\\AppData\\Local\\Temp\\ipykernel_19200\\786195234.py:2: DeprecationWarning: find_elements_by_* commands are deprecated. Please use find_elements() instead\n",
      "  race_list = driver.find_elements_by_xpath('//div[@id=\"race__list\"]/div')\n"
     ]
    }
   ],
   "source": [
    "# getting the races divs inside the hier\n",
    "race_list = driver.find_elements_by_xpath('//div[@id=\"race__list\"]/div')"
   ]
  },
  {
   "cell_type": "code",
   "execution_count": 70,
   "id": "a40c9f3b",
   "metadata": {},
   "outputs": [
    {
     "data": {
      "text/plain": [
       "[<selenium.webdriver.remote.webelement.WebElement (session=\"a1f007b8671a5648508f7482fa39d4bc\", element=\"d51a1715-1c73-423b-8f9e-61dd254afd02\")>,\n",
       " <selenium.webdriver.remote.webelement.WebElement (session=\"a1f007b8671a5648508f7482fa39d4bc\", element=\"bd6dbddd-c886-4a44-90be-dc03f04c896d\")>,\n",
       " <selenium.webdriver.remote.webelement.WebElement (session=\"a1f007b8671a5648508f7482fa39d4bc\", element=\"b443c557-6325-436a-a146-6099c119e07d\")>,\n",
       " <selenium.webdriver.remote.webelement.WebElement (session=\"a1f007b8671a5648508f7482fa39d4bc\", element=\"40385abb-61a7-4c48-abb8-7befa0206213\")>]"
      ]
     },
     "execution_count": 70,
     "metadata": {},
     "output_type": "execute_result"
    }
   ],
   "source": [
    "race_list"
   ]
  },
  {
   "cell_type": "code",
   "execution_count": 71,
   "id": "bb28b39f",
   "metadata": {},
   "outputs": [
    {
     "name": "stdout",
     "output_type": "stream",
     "text": [
      "https://www.france-galop.com/fr/courses/reunion/20220406/YUpRK3U5dENCUUtSdUNIRWdYd2Z5QT09\n",
      "https://www.france-galop.com/fr/courses/reunion/20220406/V0xOT0ZqbTlCTXhpTDBkcUdyaVBnZz09\n",
      "https://www.france-galop.com/fr/courses/reunion/20220406/M2l0OU9EN2xWaGRqVVpjMWVkSmludz09\n",
      "https://www.france-galop.com/fr/courses/reunion/20220406/VkxiV2ZvOGdDdHJBdkdMNFJmcTkydz09\n"
     ]
    },
    {
     "name": "stderr",
     "output_type": "stream",
     "text": [
      "C:\\Users\\alikh\\anaconda3\\lib\\site-packages\\selenium\\webdriver\\remote\\webelement.py:341: UserWarning: find_element_by_* commands are deprecated. Please use find_element() instead\n",
      "  warnings.warn(\"find_element_by_* commands are deprecated. Please use find_element() instead\")\n"
     ]
    }
   ],
   "source": [
    "# getting the links of those races\n",
    "links_of_races = []\n",
    "for i in race_list:\n",
    "    print(i.find_element_by_tag_name('a').get_attribute('href'))\n",
    "    links_of_races.append(i.find_element_by_tag_name('a').get_attribute('href'))"
   ]
  },
  {
   "cell_type": "code",
   "execution_count": 72,
   "id": "a3e6cce0",
   "metadata": {},
   "outputs": [
    {
     "data": {
      "text/plain": [
       "['https://www.france-galop.com/fr/courses/reunion/20220406/YUpRK3U5dENCUUtSdUNIRWdYd2Z5QT09',\n",
       " 'https://www.france-galop.com/fr/courses/reunion/20220406/V0xOT0ZqbTlCTXhpTDBkcUdyaVBnZz09',\n",
       " 'https://www.france-galop.com/fr/courses/reunion/20220406/M2l0OU9EN2xWaGRqVVpjMWVkSmludz09',\n",
       " 'https://www.france-galop.com/fr/courses/reunion/20220406/VkxiV2ZvOGdDdHJBdkdMNFJmcTkydz09']"
      ]
     },
     "execution_count": 72,
     "metadata": {},
     "output_type": "execute_result"
    }
   ],
   "source": [
    "links_of_races"
   ]
  },
  {
   "cell_type": "code",
   "execution_count": 52,
   "id": "896601db",
   "metadata": {},
   "outputs": [],
   "source": [
    "# running through race 1\n",
    "driver.get(lst[0])"
   ]
  },
  {
   "cell_type": "code",
   "execution_count": 59,
   "id": "2ba38538",
   "metadata": {},
   "outputs": [
    {
     "name": "stderr",
     "output_type": "stream",
     "text": [
      "C:\\Users\\alikh\\AppData\\Local\\Temp\\ipykernel_19200\\3203949951.py:1: DeprecationWarning: find_element_by_* commands are deprecated. Please use find_element() instead\n",
      "  driver.get(driver.find_element_by_xpath('//div[@class=\"button download\"]/div/a').get_attribute('href'))\n"
     ]
    },
    {
     "ename": "NoSuchElementException",
     "evalue": "Message: no such element: Unable to locate element: {\"method\":\"xpath\",\"selector\":\"//div[@class=\"button download\"]/div/a\"}\n  (Session info: chrome=100.0.4896.75)\nStacktrace:\nBacktrace:\n\tOrdinal0 [0x01047413+2389011]\n\tOrdinal0 [0x00FD9F61+1941345]\n\tOrdinal0 [0x00ECC658+837208]\n\tOrdinal0 [0x00EF91DD+1020381]\n\tOrdinal0 [0x00EF949B+1021083]\n\tOrdinal0 [0x00F26032+1204274]\n\tOrdinal0 [0x00F14194+1130900]\n\tOrdinal0 [0x00F24302+1196802]\n\tOrdinal0 [0x00F13F66+1130342]\n\tOrdinal0 [0x00EEE546+976198]\n\tOrdinal0 [0x00EEF456+980054]\n\tGetHandleVerifier [0x011F9632+1727522]\n\tGetHandleVerifier [0x012ABA4D+2457661]\n\tGetHandleVerifier [0x010DEB81+569713]\n\tGetHandleVerifier [0x010DDD76+566118]\n\tOrdinal0 [0x00FE0B2B+1968939]\n\tOrdinal0 [0x00FE5988+1989000]\n\tOrdinal0 [0x00FE5A75+1989237]\n\tOrdinal0 [0x00FEECB1+2026673]\n\tBaseThreadInitThunk [0x77576739+25]\n\tRtlGetFullPathName_UEx [0x77AD8E7F+1215]\n\tRtlGetFullPathName_UEx [0x77AD8E4D+1165]\n",
     "output_type": "error",
     "traceback": [
      "\u001b[1;31m---------------------------------------------------------------------------\u001b[0m",
      "\u001b[1;31mNoSuchElementException\u001b[0m                    Traceback (most recent call last)",
      "Input \u001b[1;32mIn [59]\u001b[0m, in \u001b[0;36m<cell line: 1>\u001b[1;34m()\u001b[0m\n\u001b[1;32m----> 1\u001b[0m driver\u001b[38;5;241m.\u001b[39mget(\u001b[43mdriver\u001b[49m\u001b[38;5;241;43m.\u001b[39;49m\u001b[43mfind_element_by_xpath\u001b[49m\u001b[43m(\u001b[49m\u001b[38;5;124;43m'\u001b[39;49m\u001b[38;5;124;43m//div[@class=\u001b[39;49m\u001b[38;5;124;43m\"\u001b[39;49m\u001b[38;5;124;43mbutton download\u001b[39;49m\u001b[38;5;124;43m\"\u001b[39;49m\u001b[38;5;124;43m]/div/a\u001b[39;49m\u001b[38;5;124;43m'\u001b[39;49m\u001b[43m)\u001b[49m\u001b[38;5;241m.\u001b[39mget_attribute(\u001b[38;5;124m'\u001b[39m\u001b[38;5;124mhref\u001b[39m\u001b[38;5;124m'\u001b[39m))\n",
      "File \u001b[1;32m~\\anaconda3\\lib\\site-packages\\selenium\\webdriver\\remote\\webdriver.py:520\u001b[0m, in \u001b[0;36mWebDriver.find_element_by_xpath\u001b[1;34m(self, xpath)\u001b[0m\n\u001b[0;32m    498\u001b[0m \u001b[38;5;124;03m\"\"\"\u001b[39;00m\n\u001b[0;32m    499\u001b[0m \u001b[38;5;124;03mFinds an element by xpath.\u001b[39;00m\n\u001b[0;32m    500\u001b[0m \n\u001b[1;32m   (...)\u001b[0m\n\u001b[0;32m    513\u001b[0m \u001b[38;5;124;03m        element = driver.find_element_by_xpath('//div/td[1]')\u001b[39;00m\n\u001b[0;32m    514\u001b[0m \u001b[38;5;124;03m\"\"\"\u001b[39;00m\n\u001b[0;32m    515\u001b[0m warnings\u001b[38;5;241m.\u001b[39mwarn(\n\u001b[0;32m    516\u001b[0m     \u001b[38;5;124m\"\u001b[39m\u001b[38;5;124mfind_element_by_* commands are deprecated. Please use find_element() instead\u001b[39m\u001b[38;5;124m\"\u001b[39m,\n\u001b[0;32m    517\u001b[0m     \u001b[38;5;167;01mDeprecationWarning\u001b[39;00m,\n\u001b[0;32m    518\u001b[0m     stacklevel\u001b[38;5;241m=\u001b[39m\u001b[38;5;241m2\u001b[39m,\n\u001b[0;32m    519\u001b[0m )\n\u001b[1;32m--> 520\u001b[0m \u001b[38;5;28;01mreturn\u001b[39;00m \u001b[38;5;28;43mself\u001b[39;49m\u001b[38;5;241;43m.\u001b[39;49m\u001b[43mfind_element\u001b[49m\u001b[43m(\u001b[49m\u001b[43mby\u001b[49m\u001b[38;5;241;43m=\u001b[39;49m\u001b[43mBy\u001b[49m\u001b[38;5;241;43m.\u001b[39;49m\u001b[43mXPATH\u001b[49m\u001b[43m,\u001b[49m\u001b[43m \u001b[49m\u001b[43mvalue\u001b[49m\u001b[38;5;241;43m=\u001b[39;49m\u001b[43mxpath\u001b[49m\u001b[43m)\u001b[49m\n",
      "File \u001b[1;32m~\\anaconda3\\lib\\site-packages\\selenium\\webdriver\\remote\\webdriver.py:1244\u001b[0m, in \u001b[0;36mWebDriver.find_element\u001b[1;34m(self, by, value)\u001b[0m\n\u001b[0;32m   1241\u001b[0m     by \u001b[38;5;241m=\u001b[39m By\u001b[38;5;241m.\u001b[39mCSS_SELECTOR\n\u001b[0;32m   1242\u001b[0m     value \u001b[38;5;241m=\u001b[39m \u001b[38;5;124m'\u001b[39m\u001b[38;5;124m[name=\u001b[39m\u001b[38;5;124m\"\u001b[39m\u001b[38;5;132;01m%s\u001b[39;00m\u001b[38;5;124m\"\u001b[39m\u001b[38;5;124m]\u001b[39m\u001b[38;5;124m'\u001b[39m \u001b[38;5;241m%\u001b[39m value\n\u001b[1;32m-> 1244\u001b[0m \u001b[38;5;28;01mreturn\u001b[39;00m \u001b[38;5;28;43mself\u001b[39;49m\u001b[38;5;241;43m.\u001b[39;49m\u001b[43mexecute\u001b[49m\u001b[43m(\u001b[49m\u001b[43mCommand\u001b[49m\u001b[38;5;241;43m.\u001b[39;49m\u001b[43mFIND_ELEMENT\u001b[49m\u001b[43m,\u001b[49m\u001b[43m \u001b[49m\u001b[43m{\u001b[49m\n\u001b[0;32m   1245\u001b[0m \u001b[43m    \u001b[49m\u001b[38;5;124;43m'\u001b[39;49m\u001b[38;5;124;43musing\u001b[39;49m\u001b[38;5;124;43m'\u001b[39;49m\u001b[43m:\u001b[49m\u001b[43m \u001b[49m\u001b[43mby\u001b[49m\u001b[43m,\u001b[49m\n\u001b[0;32m   1246\u001b[0m \u001b[43m    \u001b[49m\u001b[38;5;124;43m'\u001b[39;49m\u001b[38;5;124;43mvalue\u001b[39;49m\u001b[38;5;124;43m'\u001b[39;49m\u001b[43m:\u001b[49m\u001b[43m \u001b[49m\u001b[43mvalue\u001b[49m\u001b[43m}\u001b[49m\u001b[43m)\u001b[49m[\u001b[38;5;124m'\u001b[39m\u001b[38;5;124mvalue\u001b[39m\u001b[38;5;124m'\u001b[39m]\n",
      "File \u001b[1;32m~\\anaconda3\\lib\\site-packages\\selenium\\webdriver\\remote\\webdriver.py:424\u001b[0m, in \u001b[0;36mWebDriver.execute\u001b[1;34m(self, driver_command, params)\u001b[0m\n\u001b[0;32m    422\u001b[0m response \u001b[38;5;241m=\u001b[39m \u001b[38;5;28mself\u001b[39m\u001b[38;5;241m.\u001b[39mcommand_executor\u001b[38;5;241m.\u001b[39mexecute(driver_command, params)\n\u001b[0;32m    423\u001b[0m \u001b[38;5;28;01mif\u001b[39;00m response:\n\u001b[1;32m--> 424\u001b[0m     \u001b[38;5;28;43mself\u001b[39;49m\u001b[38;5;241;43m.\u001b[39;49m\u001b[43merror_handler\u001b[49m\u001b[38;5;241;43m.\u001b[39;49m\u001b[43mcheck_response\u001b[49m\u001b[43m(\u001b[49m\u001b[43mresponse\u001b[49m\u001b[43m)\u001b[49m\n\u001b[0;32m    425\u001b[0m     response[\u001b[38;5;124m'\u001b[39m\u001b[38;5;124mvalue\u001b[39m\u001b[38;5;124m'\u001b[39m] \u001b[38;5;241m=\u001b[39m \u001b[38;5;28mself\u001b[39m\u001b[38;5;241m.\u001b[39m_unwrap_value(\n\u001b[0;32m    426\u001b[0m         response\u001b[38;5;241m.\u001b[39mget(\u001b[38;5;124m'\u001b[39m\u001b[38;5;124mvalue\u001b[39m\u001b[38;5;124m'\u001b[39m, \u001b[38;5;28;01mNone\u001b[39;00m))\n\u001b[0;32m    427\u001b[0m     \u001b[38;5;28;01mreturn\u001b[39;00m response\n",
      "File \u001b[1;32m~\\anaconda3\\lib\\site-packages\\selenium\\webdriver\\remote\\errorhandler.py:247\u001b[0m, in \u001b[0;36mErrorHandler.check_response\u001b[1;34m(self, response)\u001b[0m\n\u001b[0;32m    245\u001b[0m         alert_text \u001b[38;5;241m=\u001b[39m value[\u001b[38;5;124m'\u001b[39m\u001b[38;5;124malert\u001b[39m\u001b[38;5;124m'\u001b[39m]\u001b[38;5;241m.\u001b[39mget(\u001b[38;5;124m'\u001b[39m\u001b[38;5;124mtext\u001b[39m\u001b[38;5;124m'\u001b[39m)\n\u001b[0;32m    246\u001b[0m     \u001b[38;5;28;01mraise\u001b[39;00m exception_class(message, screen, stacktrace, alert_text)  \u001b[38;5;66;03m# type: ignore[call-arg]  # mypy is not smart enough here\u001b[39;00m\n\u001b[1;32m--> 247\u001b[0m \u001b[38;5;28;01mraise\u001b[39;00m exception_class(message, screen, stacktrace)\n",
      "\u001b[1;31mNoSuchElementException\u001b[0m: Message: no such element: Unable to locate element: {\"method\":\"xpath\",\"selector\":\"//div[@class=\"button download\"]/div/a\"}\n  (Session info: chrome=100.0.4896.75)\nStacktrace:\nBacktrace:\n\tOrdinal0 [0x01047413+2389011]\n\tOrdinal0 [0x00FD9F61+1941345]\n\tOrdinal0 [0x00ECC658+837208]\n\tOrdinal0 [0x00EF91DD+1020381]\n\tOrdinal0 [0x00EF949B+1021083]\n\tOrdinal0 [0x00F26032+1204274]\n\tOrdinal0 [0x00F14194+1130900]\n\tOrdinal0 [0x00F24302+1196802]\n\tOrdinal0 [0x00F13F66+1130342]\n\tOrdinal0 [0x00EEE546+976198]\n\tOrdinal0 [0x00EEF456+980054]\n\tGetHandleVerifier [0x011F9632+1727522]\n\tGetHandleVerifier [0x012ABA4D+2457661]\n\tGetHandleVerifier [0x010DEB81+569713]\n\tGetHandleVerifier [0x010DDD76+566118]\n\tOrdinal0 [0x00FE0B2B+1968939]\n\tOrdinal0 [0x00FE5988+1989000]\n\tOrdinal0 [0x00FE5A75+1989237]\n\tOrdinal0 [0x00FEECB1+2026673]\n\tBaseThreadInitThunk [0x77576739+25]\n\tRtlGetFullPathName_UEx [0x77AD8E7F+1215]\n\tRtlGetFullPathName_UEx [0x77AD8E4D+1165]\n"
     ]
    }
   ],
   "source": [
    "# downloading the PDF into the PDF directory\n",
    "driver.get(driver.find_element_by_xpath('//div[@class=\"button download\"]/div/a').get_attribute('href'))"
   ]
  },
  {
   "cell_type": "code",
   "execution_count": null,
   "id": "62aa1ae0",
   "metadata": {},
   "outputs": [],
   "source": [
    "# to run javascript\n",
    "#driver.execute_script(\"document.getElementsByClassName('comment-user')[0].click()\")"
   ]
  }
 ],
 "metadata": {
  "kernelspec": {
   "display_name": "Python 3 (ipykernel)",
   "language": "python",
   "name": "python3"
  },
  "language_info": {
   "codemirror_mode": {
    "name": "ipython",
    "version": 3
   },
   "file_extension": ".py",
   "mimetype": "text/x-python",
   "name": "python",
   "nbconvert_exporter": "python",
   "pygments_lexer": "ipython3",
   "version": "3.9.7"
  }
 },
 "nbformat": 4,
 "nbformat_minor": 5
}
